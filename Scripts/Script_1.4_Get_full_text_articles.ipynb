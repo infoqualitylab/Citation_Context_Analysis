{
 "cells": [
  {
   "cell_type": "code",
   "execution_count": 16,
   "metadata": {},
   "outputs": [
    {
     "name": "stdout",
     "output_type": "stream",
     "text": [
      "4\n",
      "ftp://ftp.ncbi.nlm.nih.gov/pub/pmc/oa_package/16/f3/PMC5657812.tar.gz\n",
      "ftp://ftp.ncbi.nlm.nih.gov/pub/pmc/oa_package/c3/ea/PMC5207634.tar.gz\n",
      "ftp://ftp.ncbi.nlm.nih.gov/pub/pmc/oa_package/61/b2/PMC5996208.tar.gz\n",
      "ftp://ftp.ncbi.nlm.nih.gov/pub/pmc/oa_package/14/85/PMC4774925.tar.gz\n"
     ]
    }
   ],
   "source": [
    "#Get full-text seed articles\n",
    "\n",
    "#encoding=utf8\n",
    "from xlrd import open_workbook\n",
    "import urllib\n",
    "from Bio import Entrez\n",
    "from xml.dom import minidom\n",
    "import xml.etree.ElementTree as ET\n",
    "import os\n",
    "import ftplib\n",
    "import urllib.request\n",
    "import tarfile\n",
    "import numpy as np\n",
    "import pandas as pd\n",
    "\n",
    "#read seed articles\n",
    "df = pd.read_excel('../Data/Step1.1_Zika_PMCID_PMID_test.xlsx')\n",
    "df.head(10)\n",
    "\n",
    "#get list of seed articles\n",
    "seed_articles_PMCIDs = df['PMCID']\n",
    "print (len(seed_articles_PMCIDs))\n",
    "\n",
    "#get the link to physical files\n",
    "for PMCID in seed_articles_PMCIDs:\n",
    "    link = \"https://www.ncbi.nlm.nih.gov/pmc/utils/oa/oa.fcgi?id=\" + PMCID\n",
    "    request = urllib.request.Request(link)\n",
    "    result = urllib.request.urlopen(request)\n",
    "    tree = ET.parse(result)\n",
    "    doc = tree.getroot()\n",
    "    for child in doc:\n",
    "        if child.tag == \"records\":\n",
    "            article_download_link = \"\"\n",
    "            for child_level_2 in child:\n",
    "                if child_level_2.tag == \"record\":\n",
    "                    for child_level_3 in child_level_2:\n",
    "                        if (\"link\" in child_level_3.tag):\n",
    "                            link_format = child_level_3.attrib[\"format\"]\n",
    "                            if (link_format == \"pdf\"):\n",
    "                                article_download_link = child_level_3.attrib[\"href\"]\n",
    "                                \n",
    "                            elif (article_download_link==\"\") and (link_format == \"tgz\"):\n",
    "                                article_download_link = child_level_3.attrib[\"href\"]\n",
    "            print (article_download_link)                    \n",
    "            if (article_download_link.endswith(\"pdf\")):                    \n",
    "                urllib.request.urlretrieve(article_download_link, \n",
    "                                                       '/Citation_Context_Analysis/Seed_Articles_Fulltext_PDF/' + PMCID + \".pdf\")\n",
    "            elif (article_download_link.endswith(\"tar.gz\")):\n",
    "                urllib.request.urlretrieve(article_download_link, \n",
    "                '/Citation_Context_Analysis/Seed_Articles_ZipFile/' + PMCID + \".tar.gz\")\n",
    "                \n",
    "                tar = tarfile.open('/Citation_Context_Analysis/Seed_Articles_ZipFile/' + PMCID + \".tar.gz\", \"r:gz\")\n",
    "                for member in tar.getmembers():\n",
    "                    if (member.name.endswith(\"xml\")):\n",
    "                        f = tar.extractfile(member)\n",
    "                        content = f.read()\n",
    "                        with open('/Citation_Context_Analysis/Seed_Articles_Fulltext_XML/' + PMCID + '.xml', 'wb') as file:\n",
    "                            file.write(content)\n",
    "                    elif (member.name.endswith(\"pdf\")):\n",
    "                        f = tar.extractfile(member)\n",
    "                        content = f.read()\n",
    "                        with open('/Citation_Context_Analysis/Seed_Articles_Fulltext_PDF/' + PMCID + '.pdf', 'wb') as file:\n",
    "                            file.write(content)"
   ]
  },
  {
   "cell_type": "code",
   "execution_count": null,
   "metadata": {},
   "outputs": [],
   "source": []
  },
  {
   "cell_type": "code",
   "execution_count": null,
   "metadata": {},
   "outputs": [],
   "source": []
  }
 ],
 "metadata": {
  "kernelspec": {
   "display_name": "Python 3",
   "language": "python",
   "name": "python3"
  },
  "language_info": {
   "codemirror_mode": {
    "name": "ipython",
    "version": 3
   },
   "file_extension": ".py",
   "mimetype": "text/x-python",
   "name": "python",
   "nbconvert_exporter": "python",
   "pygments_lexer": "ipython3",
   "version": "3.7.1"
  }
 },
 "nbformat": 4,
 "nbformat_minor": 2
}
