{
 "cells": [
  {
   "cell_type": "code",
   "execution_count": 1,
   "metadata": {},
   "outputs": [
    {
     "name": "stderr",
     "output_type": "stream",
     "text": [
      "WARNING:pdfminer.converter:undefined: <PDFType1Font: basefont='APHKLK+AdvOT1ef757c0+20'>, 129\n",
      "WARNING:pdfminer.converter:undefined: <PDFType1Font: basefont='APHKLK+AdvOT1ef757c0+20'>, 129\n",
      "WARNING:pdfminer.converter:undefined: <PDFType1Font: basefont='APHKLK+AdvOT1ef757c0+20'>, 129\n",
      "WARNING:pdfminer.converter:undefined: <PDFType1Font: basefont='APHKLK+AdvOT1ef757c0+20'>, 129\n",
      "WARNING:pdfminer.converter:undefined: <PDFType1Font: basefont='APHKLK+AdvOT1ef757c0+20'>, 129\n",
      "WARNING:pdfminer.converter:undefined: <PDFType1Font: basefont='APHKLK+AdvOT1ef757c0+20'>, 129\n",
      "WARNING:pdfminer.converter:undefined: <PDFType1Font: basefont='APHKLK+AdvOT1ef757c0+20'>, 129\n",
      "WARNING:pdfminer.converter:undefined: <PDFType1Font: basefont='APHKLK+AdvOT1ef757c0+20'>, 129\n",
      "WARNING:pdfminer.converter:undefined: <PDFType1Font: basefont='APHKLK+AdvOT1ef757c0+20'>, 129\n",
      "WARNING:pdfminer.converter:undefined: <PDFType1Font: basefont='APHKLK+AdvOT1ef757c0+20'>, 129\n",
      "WARNING:root:Cannot locate objid=1345\n",
      "WARNING:pdfminer.converter:undefined: <PDFType1Font: basefont='PJDXAU+MyriadPro-Regular'>, 31\n",
      "WARNING:pdfminer.converter:undefined: <PDFType1Font: basefont='PHTCKU+MyriadPro-SemiboldIt'>, 31\n",
      "WARNING:pdfminer.converter:undefined: <PDFType1Font: basefont='PJDXAU+MyriadPro-Semibold'>, 30\n",
      "WARNING:pdfminer.converter:undefined: <PDFType1Font: basefont='PJDXAU+MyriadPro-Semibold'>, 29\n",
      "WARNING:pdfminer.converter:undefined: <PDFType1Font: basefont='PJDXAU+MyriadPro-Regular'>, 31\n",
      "WARNING:pdfminer.layout:Too many boxes (125) to group, skipping.\n",
      "WARNING:pdfminer.layout:Too many boxes (1159) to group, skipping.\n",
      "WARNING:pdfminer.layout:Too many boxes (1467) to group, skipping.\n",
      "WARNING:pdfminer.layout:Too many boxes (1018) to group, skipping.\n",
      "WARNING:pdfminer.layout:Too many boxes (2753) to group, skipping.\n"
     ]
    }
   ],
   "source": [
    "#CONVERT PDF TO PLAINTEXT FILES\n",
    "import pdfminer\n",
    "from six import StringIO\n",
    "import re\n",
    "import sys\n",
    "import os\n",
    "sys.path.append(\"/usr/local/lib/python3.7/site-packages/pdfminer\")\n",
    "\n",
    "from pdfminer.pdfparser import PDFParser, PDFDocument\n",
    "from pdfminer.pdfinterp import PDFResourceManager, PDFPageInterpreter\n",
    "from pdfminer.converter import PDFPageAggregator\n",
    "from pdfminer.layout import LAParams, LTTextBox, LTTextLine\n",
    "\n",
    "Path = \"/Users/phuong/Documents/Citation_Context_Analysis/Seed_Articles_Fulltext_PDF/\"\n",
    "\n",
    "#read the PDF files to get plain text full-text\n",
    "filelist = os.listdir(Path)\n",
    "for i in filelist:\n",
    "    if i.endswith(\".pdf\"):  \n",
    "        fp = open(Path + i, 'rb')\n",
    "        parser = PDFParser(fp)\n",
    "        doc = PDFDocument()\n",
    "        parser.set_document(doc)\n",
    "        doc.set_parser(parser)\n",
    "        doc.initialize('')\n",
    "        rsrcmgr = PDFResourceManager()\n",
    "        laparams = LAParams()\n",
    "        #Get rid of white spaces inside words:\n",
    "        laparams.char_margin = 1.0\n",
    "        laparams.word_margin = 1.0\n",
    "        device = PDFPageAggregator(rsrcmgr, laparams=laparams)\n",
    "        interpreter = PDFPageInterpreter(rsrcmgr, device)\n",
    "        extracted_text = ''\n",
    "\n",
    "        # Process each page contained in the document.\n",
    "        for page in doc.get_pages():\n",
    "            interpreter.process_page(page)\n",
    "            layout = device.get_result()\n",
    "            for lt_obj in layout:\n",
    "                if isinstance(lt_obj, LTTextBox) or isinstance(lt_obj, LTTextLine):\n",
    "                    extracted_text += lt_obj.get_text()\n",
    "        outputFile = \"/Users/phuong/Documents/Citation_Context_Analysis/Seed_Articles_Fulltext_Plaintext/\" + i + \"_plaintext.txt\"\n",
    "\n",
    "        with open(outputFile,\"wb\") as txt_file:\n",
    "            txt_file.write(extracted_text.encode(\"utf-8\"))\n"
   ]
  },
  {
   "cell_type": "code",
   "execution_count": null,
   "metadata": {},
   "outputs": [],
   "source": []
  }
 ],
 "metadata": {
  "kernelspec": {
   "display_name": "Python 3",
   "language": "python",
   "name": "python3"
  },
  "language_info": {
   "codemirror_mode": {
    "name": "ipython",
    "version": 3
   },
   "file_extension": ".py",
   "mimetype": "text/x-python",
   "name": "python",
   "nbconvert_exporter": "python",
   "pygments_lexer": "ipython3",
   "version": "3.7.1"
  }
 },
 "nbformat": 4,
 "nbformat_minor": 2
}
