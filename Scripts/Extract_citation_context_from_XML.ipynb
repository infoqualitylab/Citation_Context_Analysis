{
 "cells": [
  {
   "cell_type": "code",
   "execution_count": 28,
   "metadata": {},
   "outputs": [
    {
     "name": "stdout",
     "output_type": "stream",
     "text": [
      "{'rid': 'pntd.0004530.ref003', 'ref-type': 'bibr'} 3\n",
      "3\n",
      "{'rid': 'pntd.0004530.ref003', 'ref-type': 'bibr'} 3\n",
      "3\n",
      "{'rid': 'pntd.0004530.ref003', 'ref-type': 'bibr'} 3\n",
      "3\n",
      "{'rid': 'pntd.0004530.ref003', 'ref-type': 'bibr'} 3\n",
      "3\n"
     ]
    }
   ],
   "source": [
    "import os\n",
    "import pandas\n",
    "import xml.etree.ElementTree as ET\n",
    "\n",
    "#Read XML file\n",
    "path = \"/Users/phuong/Documents/Citation_Context_Analysis/Seed_Articles_Fulltext_XML/\"\n",
    "\n",
    "#read the PDF files to get plain text full-text\n",
    "filelist = os.listdir(path)\n",
    "for i in filelist:\n",
    "    if i.endswith(\".xml\"):\n",
    "        with open(path + i, 'r') as f:\n",
    "            file_name = path + i\n",
    "            tree = ET.parse(file_name)\n",
    "            root = tree.getroot()\n",
    "            for reference in root.iter('xref'):\n",
    "                referenceNumber = reference.text \n",
    "                if type(referenceNumber) == str and referenceNumber == \"3\":\n",
    "                    print(reference.attrib, reference.text)\n",
    "                    for i in reference.itertext():\n",
    "                        print (i)\n",
    "\n"
   ]
  },
  {
   "cell_type": "code",
   "execution_count": 33,
   "metadata": {},
   "outputs": [],
   "source": [
    "def get_text_before(element):\n",
    "    for item in element.xpath(\"preceding-sibling::*/text()|preceding-sibling::text()\"):\n",
    "        item = item.strip()\n",
    "        if item:\n",
    "            yield item\n",
    "\n",
    "def get_text_after(element):\n",
    "    for item in element.xpath(\"following-sibling::*/text()|following-sibling::text()\"):\n",
    "        item = item.strip()\n",
    "        if item:\n",
    "            yield item\n",
    "\n",
    "import os\n",
    "import pandas\n",
    "import xml.etree.ElementTree as ET\n",
    "\n",
    "#Read XML file\n",
    "path = \"/Users/phuong/Documents/Citation_Context_Analysis/Seed_Articles_Fulltext_XML/\"\n",
    "\n",
    "#read the PDF files to get plain text full-text\n",
    "filelist = os.listdir(path)\n",
    "for i in filelist:\n",
    "    if i.endswith(\".xml\"):\n",
    "        with open(path + i, 'r') as f:\n",
    "            file_name = path + i\n",
    "            tree = ET.parse(file_name)\n",
    "            root = tree.getroot()\n",
    "            for el in tree.findall('xref'):\n",
    "                before = \" \".join(get_text_before(el))\n",
    "                after = \" \".join(get_text_after(el))\n",
    "\n",
    "                print ({\n",
    "                    \"el\": el,\n",
    "                    \"before\": before,\n",
    "                    \"after\": after\n",
    "                })"
   ]
  },
  {
   "cell_type": "code",
   "execution_count": null,
   "metadata": {},
   "outputs": [],
   "source": []
  }
 ],
 "metadata": {
  "kernelspec": {
   "display_name": "Python 3",
   "language": "python",
   "name": "python3"
  },
  "language_info": {
   "codemirror_mode": {
    "name": "ipython",
    "version": 3
   },
   "file_extension": ".py",
   "mimetype": "text/x-python",
   "name": "python",
   "nbconvert_exporter": "python",
   "pygments_lexer": "ipython3",
   "version": "3.7.1"
  }
 },
 "nbformat": 4,
 "nbformat_minor": 2
}
