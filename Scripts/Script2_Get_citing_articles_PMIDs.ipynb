{
 "cells": [
  {
   "cell_type": "code",
   "execution_count": 11,
   "metadata": {},
   "outputs": [
    {
     "name": "stdout",
     "output_type": "stream",
     "text": [
      "5115\n"
     ]
    }
   ],
   "source": [
    "#GET PMIDS of ARTICLES IN THE CITATION NETWORK\n",
    "\n",
    "import pandas as pd\n",
    "import csv\n",
    "\n",
    "#read articles in citation network\n",
    "df = pd.read_csv('/Users/phuong/Documents/Citation_Context_Analysis/Step1.2_Zika_Citations_from_Vetle.tsv', sep='\\t')\n",
    "df.head(10)\n",
    "\n",
    "#read seed articles\n",
    "df1 = pd.read_excel('/Users/phuong/Documents/Citation_Context_Analysis/Step1.1_Zika_PMCID_PMID.xlsx')\n",
    "df1.head(10)\n",
    "\n",
    "#get list of seed articles\n",
    "seed_articles = df1['PMID']\n",
    "citation_network = {}\n",
    "\n",
    "count = 0\n",
    "\n",
    "#save the citation network to a dictionary\n",
    "for seed_article in seed_articles:\n",
    "    if (seed_article != \"None\"):\n",
    "        seed_article_int = int(seed_article)\n",
    "        individual_seed_article_df = df[df[\"toPMID\"] == seed_article_int]\n",
    "        individual_seed_article_df_reliable = individual_seed_article_df[individual_seed_article_df[\"Reliability\"] == \"PUB\"]\n",
    "        citation_network[seed_article] = []\n",
    "        for citing_article in individual_seed_article_df_reliable['fromPMID']:\n",
    "            if (citing_article) not in citation_network[seed_article]:\n",
    "                citation_network[seed_article].append(citing_article)\n",
    "        count +=1\n",
    "\n",
    "#save csv file\n",
    "with open('/Users/phuong/Documents/Citation_Context_Analysis/Citing_Articles.csv', 'w') as f:\n",
    "    for key in citation_network.keys():\n",
    "        for value in citation_network[key]:\n",
    "            f.write(\"%s,%s\\n\"%(key,value))\n",
    "\n",
    "f.close()\n",
    "\n",
    "print (count)"
   ]
  }
 ],
 "metadata": {
  "kernelspec": {
   "display_name": "Python 3",
   "language": "python",
   "name": "python3"
  },
  "language_info": {
   "codemirror_mode": {
    "name": "ipython",
    "version": 3
   },
   "file_extension": ".py",
   "mimetype": "text/x-python",
   "name": "python",
   "nbconvert_exporter": "python",
   "pygments_lexer": "ipython3",
   "version": "3.7.1"
  }
 },
 "nbformat": 4,
 "nbformat_minor": 2
}
