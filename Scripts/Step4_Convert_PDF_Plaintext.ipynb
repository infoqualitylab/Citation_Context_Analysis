{
 "cells": [
  {
   "cell_type": "code",
   "execution_count": 1,
   "metadata": {},
   "outputs": [],
   "source": [
    "#testing PDFX at https://github.com/metachris/pdfx\n",
    "from io import StringIO\n",
    "import re\n",
    "import sys\n",
    "import os\n",
    "sys.path.append(\"/usr/local/lib/python3.7/site-packages/pdfminer\")\n",
    "import pdfx\n",
    "\n",
    "pdf = pdfx.PDFx(\"/Users/phuong/Downloads/Seed_Citing_Articles/PMC6190060.pdf\")\n",
    "metadata = pdf.get_metadata()\n",
    "references_list = pdf.get_references()\n",
    "references_dict = pdf.get_references_as_dict()\n",
    "#CONVERT PDF TO PLAINTEXT FILES\n",
    "import pdfminer\n",
    "from six import StringIO\n",
    "import re\n",
    "import sys\n",
    "import os\n",
    "sys.path.append(\"/usr/local/lib/python3.7/site-packages/pdfminer/\")pdf.download_pdfs(\"/Users/phuong/Downloads/Seed_Citing_Articles/\")"
   ]
  },
  {
   "cell_type": "code",
   "execution_count": 25,
   "metadata": {},
   "outputs": [],
   "source": [
    "#CONVERT PDF TO PLAINTEXT FILES https://euske.github.io/pdfminer/programming.html\n",
    "import pdfminer\n",
    "from six import StringIO\n",
    "import re\n",
    "import sys\n",
    "import os\n",
    "sys.path.append(\"/usr/local/lib/python3.7/site-packages/pdfminer/\")\n",
    "\n",
    "from pdfminer.pdfparser import PDFParser\n",
    "from pdfminer.pdfdocument import PDFDocument\n",
    "from pdfminer.pdfpage import PDFPage\n",
    "from pdfminer.pdfpage import PDFTextExtractionNotAllowed\n",
    "from pdfminer.pdfinterp import PDFResourceManager\n",
    "from pdfminer.pdfinterp import PDFPageInterpreter\n",
    "from pdfminer.pdfdevice import PDFDevice\n",
    "from pdfminer.layout import LAParams\n",
    "from pdfminer.converter import PDFPageAggregator\n",
    "\n",
    "\n",
    "# Open a PDF file.\n",
    "fp = open('/Users/phuong/Downloads/Seed_Citing_Articles/PMC6204932.pdf', 'rb')\n",
    "# Create a PDF parser object associated with the file object.\n",
    "parser = PDFParser(fp)\n",
    "# Create a PDF document object that stores the document structure.\n",
    "# Supply the password for initialization.\n",
    "document = PDFDocument(parser)\n",
    "# Check if the document allows text extraction. If not, abort.\n",
    "if not document.is_extractable:\n",
    "    raise PDFTextExtractionNotAllowed\n",
    "# Create a PDF resource manager object that stores shared resources.\n",
    "rsrcmgr = PDFResourceManager()\n",
    "# Set parameters for analysis.\n",
    "laparams = LAParams()\n",
    "# Create a PDF page aggregator object.\n",
    "device = PDFPageAggregator(rsrcmgr, laparams=laparams)\n",
    "interpreter = PDFPageInterpreter(rsrcmgr, device)\n",
    "extracted_text = ''\n",
    "for page in PDFPage.create_pages(document):\n",
    "    interpreter.process_page(page)\n",
    "    layout = device.get_result()\n",
    "    for lt_obj in layout:\n",
    "        if isinstance(lt_obj, LTTextBox) or isinstance(lt_obj, LTTextLine):\n",
    "            extracted_text = extracted_text + \" \"\n",
    "            extracted_text += lt_obj.get_text()\n",
    "    \n",
    "outputFile = \"/Users/phuong/Downloads/Seed_Citing_Articles/PMC6204932_plaintext_converted_2.txt\"\n",
    "\n",
    "with open(outputFile,\"wb\") as txt_file:\n",
    "    txt_file.write(extracted_text.encode(\"utf-8\"))\n"
   ]
  },
  {
   "cell_type": "code",
   "execution_count": null,
   "metadata": {},
   "outputs": [],
   "source": []
  }
 ],
 "metadata": {
  "kernelspec": {
   "display_name": "Python 3",
   "language": "python",
   "name": "python3"
  },
  "language_info": {
   "codemirror_mode": {
    "name": "ipython",
    "version": 3
   },
   "file_extension": ".py",
   "mimetype": "text/x-python",
   "name": "python",
   "nbconvert_exporter": "python",
   "pygments_lexer": "ipython3",
   "version": "3.7.1"
  }
 },
 "nbformat": 4,
 "nbformat_minor": 2
}
