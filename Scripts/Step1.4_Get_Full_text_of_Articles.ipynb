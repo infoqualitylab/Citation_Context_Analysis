{
 "cells": [
  {
   "cell_type": "code",
   "execution_count": 25,
   "metadata": {},
   "outputs": [
    {
     "name": "stdout",
     "output_type": "stream",
     "text": [
      "13\n",
      "ftp://ftp.ncbi.nlm.nih.gov/pub/pmc/oa_package/ec/da/PMC5689094.tar.gz\n",
      "ftp://ftp.ncbi.nlm.nih.gov/pub/pmc/oa_package/cb/06/PMC5749464.tar.gz\n",
      "ftp://ftp.ncbi.nlm.nih.gov/pub/pmc/oa_package/e8/e9/PMC5844284.tar.gz\n",
      "ftp://ftp.ncbi.nlm.nih.gov/pub/pmc/oa_package/d9/07/PMC5915455.tar.gz\n",
      "ftp://ftp.ncbi.nlm.nih.gov/pub/pmc/oa_package/18/81/PMC5960167.tar.gz\n",
      "ftp://ftp.ncbi.nlm.nih.gov/pub/pmc/oa_package/0b/f3/PMC5968501.tar.gz\n",
      "ftp://ftp.ncbi.nlm.nih.gov/pub/pmc/oa_package/0c/c4/PMC6106427.tar.gz\n",
      "ftp://ftp.ncbi.nlm.nih.gov/pub/pmc/oa_package/59/e1/PMC6102244.tar.gz\n"
     ]
    }
   ],
   "source": [
    "#Get metadata of the articles from PMC API\n",
    "#encoding=utf8\n",
    "import importlib\n",
    "import os\n",
    "import urllib.request\n",
    "from xlrd import open_workbook\n",
    "from Bio import Entrez\n",
    "import xml.dom.minidom\n",
    "import xml.etree.ElementTree as ET\n",
    "import pandas\n",
    "import openpyxl\n",
    "import pandas as pd\n",
    "import tarfile\n",
    "Entrez.email = \"lhoang2@illinois.edu\"\n",
    "\n",
    "#Read list of PMIDs from txt file\n",
    "citations_path = (\"/Users/phuong/Downloads/Citations/XLSX/\")\n",
    "filelist = os.listdir(citations_path)\n",
    "\n",
    "for file in filelist:\n",
    "    if file.endswith(\"21.xlsx\"):\n",
    "        filename = citations_path + file\n",
    "        df = pd.read_excel(filename)\n",
    "        PMCID_list = df['PMCID']\n",
    "        count = 0\n",
    "        for PMCID in PMCID_list:\n",
    "            if (PMCID != \"None\"):\n",
    "                count +=1\n",
    "        print (count)\n",
    "        \n",
    "        new_folder_path = citations_path + file.rstrip(\".xlsx\")\n",
    "        os.makedirs(new_folder_path)\n",
    "\n",
    "        #get the link to physical files\n",
    "        for PMCID in PMCID_list:\n",
    "            link = \"https://www.ncbi.nlm.nih.gov/pmc/utils/oa/oa.fcgi?id=\" + PMCID\n",
    "            request = urllib.request.Request(link)\n",
    "            result = urllib.request.urlopen(request)\n",
    "            tree = ET.parse(result)\n",
    "            doc = tree.getroot()\n",
    "            for child in doc:\n",
    "                if child.tag == \"records\":\n",
    "                    article_download_link = \"\"\n",
    "                    for child_level_2 in child:\n",
    "                        if child_level_2.tag == \"record\":\n",
    "                            for child_level_3 in child_level_2:\n",
    "                                if (\"link\" in child_level_3.tag):\n",
    "                                    link_format = child_level_3.attrib[\"format\"]\n",
    "                                    if (link_format == \"pdf\"):\n",
    "                                        article_download_link = child_level_3.attrib[\"href\"]\n",
    "\n",
    "                                    elif (article_download_link==\"\") and (link_format == \"tgz\"):\n",
    "                                        article_download_link = child_level_3.attrib[\"href\"]\n",
    "                    print (article_download_link)  \n",
    "                    \n",
    "                    if (article_download_link.endswith(\"pdf\")):                    \n",
    "                        urllib.request.urlretrieve(article_download_link, \n",
    "                                                               new_folder_path + \"/\" + PMCID + \".pdf\")\n",
    "                    elif (article_download_link.endswith(\"tar.gz\")):\n",
    "                        urllib.request.urlretrieve(article_download_link, \n",
    "                        new_folder_path + \"/\" + PMCID + \".tar.gz\")\n",
    "\n",
    "                        tar = tarfile.open(new_folder_path + \"/\" + PMCID + \".tar.gz\", \"r:gz\")\n",
    "                        for member in tar.getmembers():\n",
    "                            if (member.name.endswith(\"pdf\")):\n",
    "                                f = tar.extractfile(member)\n",
    "                                content = f.read()\n",
    "                                with open(new_folder_path + \"/\" + PMCID + '.pdf', 'wb') as file:\n",
    "                                    file.write(content)"
   ]
  },
  {
   "cell_type": "code",
   "execution_count": null,
   "metadata": {},
   "outputs": [],
   "source": []
  },
  {
   "cell_type": "code",
   "execution_count": null,
   "metadata": {},
   "outputs": [],
   "source": []
  }
 ],
 "metadata": {
  "kernelspec": {
   "display_name": "Python 3",
   "language": "python",
   "name": "python3"
  },
  "language_info": {
   "codemirror_mode": {
    "name": "ipython",
    "version": 3
   },
   "file_extension": ".py",
   "mimetype": "text/x-python",
   "name": "python",
   "nbconvert_exporter": "python",
   "pygments_lexer": "ipython3",
   "version": "3.7.1"
  }
 },
 "nbformat": 4,
 "nbformat_minor": 2
}
