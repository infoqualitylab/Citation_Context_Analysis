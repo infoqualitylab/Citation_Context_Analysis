{
 "cells": [
  {
   "cell_type": "code",
   "execution_count": null,
   "metadata": {},
   "outputs": [],
   "source": [
    "####Convert PMCID to PMID via PubMedAPI####\n",
    "\n",
    "from xlrd import open_workbook\n",
    "import urllib\n",
    "from Bio import Entrez\n",
    "from xml.dom import minidom\n",
    "import xml.etree.ElementTree as ET\n",
    "\n",
    "Entrez.email = \"lhoang2@illinois.edu\"\n",
    "\n",
    "#Save results to Excel file\n",
    "from pandas import DataFrame\n",
    "\n",
    "# Read list of PMIDs from txt file\n",
    "PMCID_list_file = open(\"/Users/phuong/Downloads/Zika_PMCIDs.txt\",\"r+\")\n",
    "\n",
    "PMCID_list = []\n",
    "PMID_list = []\n",
    "\n",
    "for line in PMCID_list_file.readlines():\n",
    "    line = line.replace(\"\\n\",\"\")\n",
    "    PMCID_list.append(line)\n",
    "PMCID_list_file.close()\n",
    "\n",
    "for PMCID in PMCID_list:\n",
    "    link = \"https://www.ncbi.nlm.nih.gov/pmc/utils/idconv/v1.0/?ids=\" + PMCID       \n",
    "    request = urllib.request.Request(link)\n",
    "    result = urllib.request.urlopen(request)\n",
    " \n",
    "    tree = ET.parse(result)\n",
    "    doc = tree.getroot()\n",
    "\n",
    "    for child in doc:\n",
    "        if child.tag == \"record\":\n",
    "            article_PMID = \"\"\n",
    "            if ('pmid' in child.attrib):\n",
    "                article_PMID = child.attrib['pmid']\n",
    "            else:\n",
    "                article_PMID = \"None\"\n",
    "            PMID_list.append(article_PMID)\n",
    "                               \n",
    "df = DataFrame({'PMCID': PMCID_list , 'PMID': PMID_list})\n",
    "df = df[['PMCID','PMID']]\n",
    "df.to_excel('/Users/phuong/Downloads/Zika_PMCID_PMID.xlsx', sheet_name='sheet1', index=False)"
   ]
  }
 ],
 "metadata": {
  "kernelspec": {
   "display_name": "Python 3",
   "language": "python",
   "name": "python3"
  },
  "language_info": {
   "codemirror_mode": {
    "name": "ipython",
    "version": 3
   },
   "file_extension": ".py",
   "mimetype": "text/x-python",
   "name": "python",
   "nbconvert_exporter": "python",
   "pygments_lexer": "ipython3",
   "version": "3.7.1"
  }
 },
 "nbformat": 4,
 "nbformat_minor": 2
}
